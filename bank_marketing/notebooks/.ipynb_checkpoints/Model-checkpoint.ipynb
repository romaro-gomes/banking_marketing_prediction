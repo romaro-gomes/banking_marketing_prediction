{
 "cells": [
  {
   "cell_type": "markdown",
   "id": "43cead12-9b8a-4122-9425-7290f24fb816",
   "metadata": {},
   "source": [
    "# Data dictionary"
   ]
  },
  {
   "cell_type": "markdown",
   "id": "0ea23567-b5ca-4b7f-8b7d-5d28bb71b41b",
   "metadata": {},
   "source": [
    "| Variable Name | Role    | Type         | Demographic      | Description                                                                                                                                                                                                                                     | Units | Missing Values |\n",
    "|---------------|---------|--------------|------------------|-------------------------------------------------------------------------------------------------------------------------------------------------------------------------------------------------------------------------------------------------|-------|----------------|\n",
    "| age           | Feature | Integer      | Age              |                                                                                                                                                                                                                                                 |       | no             |\n",
    "| job           | Feature | Categorical  | Occupation       | type of job (categorical: 'admin.', 'blue-collar', 'entrepreneur', 'housemaid', 'management', 'retired', 'self-employed', 'services', 'student', 'technician', 'unemployed', 'unknown')                                                          |       | no             |\n",
    "| marital       | Feature | Categorical  | Marital Status   | marital status (categorical: 'divorced', 'married', 'single', 'unknown'; note: 'divorced' means divorced or widowed)                                                                                                                            |       | no             |\n",
    "| education     | Feature | Categorical  | Education Level  | (categorical: 'basic.4y', 'basic.6y', 'basic.9y', 'high.school', 'illiterate', 'professional.course', 'university.degree', 'unknown')                                                                                                           |       | no             |\n",
    "| default       | Feature | Binary       |                  | has credit in default?                                                                                                                                                                                                                         |       | no             |\n",
    "| balance       | Feature | Integer      |                  | average yearly balance                                                                                                                                                                                                                         | euros | no             |\n",
    "| housing       | Feature | Binary       |                  | has housing loan?                                                                                                                                                                                                                              |       | no             |\n",
    "| loan          | Feature | Binary       |                  | has personal loan?                                                                                                                                                                                                                             |       | no             |\n",
    "| contact       | Feature | Categorical  |                  | contact communication type (categorical: 'cellular', 'telephone')                                                                                                                                                                              |       | yes            |\n",
    "| day_of_week   | Feature | Date         |                  | last contact day of the week                                                                                                                                                                                                                   |       | no             |\n",
    "| month         | Feature | Date         |                  | last contact month of year (categorical: 'jan', 'feb', 'mar', ..., 'nov', 'dec')                                                                                                                                                               |       | no             |\n",
    "| duration      | Feature | Integer      |                  | last contact duration, in seconds (numeric). Important note: this attribute highly affects the output target (e.g., if duration=0 then y='no'). Yet, the duration is not known before a call is performed. This input should be used cautiously. |       | no             |\n",
    "| campaign      | Feature | Integer      |                  | number of contacts performed during this campaign and for this client (numeric, includes last contact)                                                                                                                                          |       | no             |\n",
    "| pdays         | Feature | Integer      |                  | number of days that passed by after the client was last contacted from a previous campaign (numeric; -1 means client was not previously contacted)                                                                                              |       | yes            |\n",
    "| previous      | Feature | Integer      |                  | number of contacts performed before this campaign and for this client                                                                                                                                                                          |       | no             |\n",
    "| poutcome      | Feature | Categorical  |                  | outcome of the previous marketing campaign (categorical: 'failure', 'nonexistent', 'success')                                                                                                                                                  |       | yes            |\n",
    "| y             | Target  | Binary       |                  | has the client subscribed a term deposit?                                                                                                                                                                                                      |       | no             |\n",
    "\n"
   ]
  },
  {
   "cell_type": "markdown",
   "id": "44af2106-4d18-4504-8571-e469e58c8037",
   "metadata": {},
   "source": [
    "Source: https://archive.ics.uci.edu/dataset/222/bank+marketing"
   ]
  },
  {
   "cell_type": "markdown",
   "id": "17397174-2bf4-42b2-ad49-907bfe4c6ccd",
   "metadata": {},
   "source": [
    "# Import packages"
   ]
  },
  {
   "cell_type": "code",
   "execution_count": 1,
   "id": "0d1b2ef4-5944-4cf7-b688-2e7b96956dca",
   "metadata": {},
   "outputs": [],
   "source": [
    "# Import and manipulate the data\n",
    "import pandas as pd\n",
    "import numpy as np\n",
    "\n",
    "#Data visualization\n",
    "import matplotlib.pyplot as plt\n",
    "import seaborn as sns\n",
    "\n",
    "#System\n",
    "import os\n",
    "import datetime\n",
    "\n",
    "#Preprocessing\n",
    "from sklearn.compose import ColumnTransformer\n",
    "from sklearn.impute import SimpleImputer\n",
    "from sklearn.pipeline import Pipeline\n",
    "from sklearn.preprocessing import OneHotEncoder,MinMaxScaler,LabelEncoder\n",
    "\n",
    "from imblearn.over_sampling import SMOTE\n",
    "\n",
    "# Train e Test\n",
    "from sklearn.model_selection import KFold,train_test_split,RandomizedSearchCV,ParameterGrid\n",
    "\n",
    "#Algorith\n",
    "from sklearn.tree import DecisionTreeClassifier\n",
    "from sklearn import svm\n",
    "from sklearn.linear_model import LogisticRegression\n",
    "from sklearn.ensemble import(\n",
    "    AdaBoostClassifier,\n",
    "    GradientBoostingClassifier,\n",
    "    RandomForestClassifier,\n",
    ")\n",
    "from xgboost import XGBClassifier\n",
    "\n",
    "from sklearn.metrics import (classification_report,\n",
    "                              confusion_matrix,\n",
    "                              accuracy_score,\n",
    "                              ConfusionMatrixDisplay,\n",
    "                              roc_auc_score,\n",
    "                              RocCurveDisplay,\n",
    "                              precision_score,\n",
    "                              recall_score)\n",
    "\n",
    "\n",
    "#MLOPS\n",
    "import mlflow\n",
    "import mlflow.sklearn\n",
    "\n",
    "\n",
    "# Supress warnings messages\n",
    "import warnings\n",
    "warnings.filterwarnings(\"ignore\") "
   ]
  },
  {
   "cell_type": "markdown",
   "id": "7d7ef5fd-c436-43fe-9d1f-99b7c7378e4d",
   "metadata": {},
   "source": [
    "# Import dataset"
   ]
  },
  {
   "cell_type": "code",
   "execution_count": 2,
   "id": "836195c4-0268-42c2-915d-33d67b1aa7f7",
   "metadata": {},
   "outputs": [],
   "source": [
    "df=pd.read_csv('../data/bank-full.csv',sep=';')"
   ]
  },
  {
   "cell_type": "markdown",
   "id": "4e3a0c72-5682-48c5-a571-41ca9dfb00ab",
   "metadata": {},
   "source": [
    "# Data Preprocessing"
   ]
  },
  {
   "cell_type": "code",
   "execution_count": 3,
   "id": "ff2e8162-b9dc-4174-982f-383a80ae3c37",
   "metadata": {},
   "outputs": [],
   "source": [
    "def preprocessing_features(*,features,categories,numerics):\n",
    "    \"\"\"\n",
    "    Depending of feature type its receive a type of preprocessor\n",
    "    \"\"\"\n",
    "    num_pipeline= Pipeline(\n",
    "                    steps=[\n",
    "                        ('scaler',MinMaxScaler())\n",
    "                    ]\n",
    "                )\n",
    "\n",
    "    cat_pipeline=Pipeline(\n",
    "                    steps=[\n",
    "                        ('one_hot_enconder',OneHotEncoder())                        \n",
    "                    ]\n",
    "                )\n",
    "\n",
    "    preprocessor=ColumnTransformer(\n",
    "                    [\n",
    "                        ('num_pipeline',num_pipeline,numerics),\n",
    "                        ('cat_pipeline',cat_pipeline,categories)\n",
    "                    ]\n",
    "            \n",
    "                )\n",
    "\n",
    "    preprocessor.fit(features)\n",
    "    return preprocessor"
   ]
  },
  {
   "cell_type": "code",
   "execution_count": 4,
   "id": "cdd6ad8e-280d-4530-99fe-1f30909b1fe2",
   "metadata": {},
   "outputs": [],
   "source": [
    "def preprocessing_target(target):\n",
    "    \"\"\"\n",
    "    Label Enconder target variables\n",
    "    \"\"\"\n",
    "    labels=LabelEncoder().fit(target)\n",
    "    print(labels.classes_)\n",
    "    return labels"
   ]
  },
  {
   "cell_type": "code",
   "execution_count": 5,
   "id": "a66a38c5-f7ea-4c41-9069-20fc650541de",
   "metadata": {},
   "outputs": [],
   "source": [
    "def mlflow_tracking_training(*,experimental_name,X_train,y_train,models,params):\n",
    "    caminho_pasta=f'{experimental_name}_{datetime.datetime.now().strftime(\"%Y-%m-%d_%H-%M-%S\")}'\n",
    "    os.makedirs(caminho_pasta, exist_ok=True)\n",
    "    os.environ[\"MLFLOW_ARTIFACT_ROOT\"] = caminho_pasta\n",
    "    print(caminho_pasta)\n",
    "    mlflow.set_experiment(experimental_name)\n",
    "    \n",
    "    for i in range(len(list(models))):\n",
    "        model=list(models.values())[i]\n",
    "        model_name=list(models.keys())[i]\n",
    "        \n",
    "        print(f'--------------------Trainning {model_name} Model-------------------------------')\n",
    "        model_params = params.get(model_name, {})\n",
    "        #param_grid = list(ParameterGrid(model_params))\n",
    "        print(model_params)\n",
    "        #loop=0\n",
    "        #for params_combination in param_grid:\n",
    "            #loop +=1\n",
    "        try:\n",
    "            with mlflow.start_run():\n",
    "                print('\\n -----------------------------------------------')\n",
    "                print('\\n Algorithm: ' + model_name)\n",
    "                grid_search = RandomizedSearchCV(model, param_distributions=model_params, scoring='roc_auc', cv=10).fit(X_train, y_train)\n",
    "                mlflow.log_metric(\"auc\", grid_search.best_score_)\n",
    "                mlflow.log_param(\"best_params\", grid_search.best_params_)\n",
    "                mlflow.log_param(\"best_model\", grid_search.best_estimator_)\n",
    "                mlflow.log_param(\"model\", model_name)        \n",
    "                mlflow.end_run()\n",
    "        except Exception as e:\n",
    "                log_print=f'Error in{model_name}: {str(e)}'\n",
    "                print(log_print)\n"
   ]
  },
  {
   "cell_type": "code",
   "execution_count": 6,
   "id": "8e6d229e-34e4-4e85-aed8-e8c973ca8957",
   "metadata": {},
   "outputs": [],
   "source": [
    "def mlflow_tracking_test(*,experimental_name,X_test,y_test,model,model_name):\n",
    "    \"\"\"\n",
    "    Tracking and save mlflow model\n",
    "    \"\"\"\n",
    "    caminho_pasta=f'{experimental_name}_{datetime.datetime.now().strftime(\"%Y-%m-%d_%H-%M-%S\")}'\n",
    "    os.makedirs(caminho_pasta, exist_ok=True)\n",
    "    os.environ[\"MLFLOW_ARTIFACT_ROOT\"] = caminho_pasta\n",
    "    print(caminho_pasta)\n",
    "    mlflow.set_experiment(experimental_name)\n",
    "    pred_test=model.predict(X_test)\n",
    "    acc_score_test=accuracy_score(y_test, pred_test)            \n",
    "    mlflow.log_metric(\"Testing Accuracy Score\",acc_score_test)\n",
    "    print(f\"Test Dataset Accuracy: {acc_score_test:0.2f}\")\n",
    "\n",
    "    report_testing = classification_report(y_test, pred_test, output_dict=True)\n",
    "    df_report_testing = pd.DataFrame(report_testing).transpose()\n",
    "\n",
    "    artifact_path=os.path.join(caminho_pasta,f'report_testing_{model_name}.csv')        \n",
    "    df_report_testing.to_csv(artifact_path)\n",
    "    mlflow.log_artifact(artifact_path)\n",
    "\n",
    "    cm=confusion_matrix(y_test,pred_test,labels=model.classes_)\n",
    "    disp = ConfusionMatrixDisplay(confusion_matrix=cm,display_labels=model.classes_)\n",
    "    fig, ax = plt.subplots(figsize=(8, 6))\n",
    "    disp.plot(ax=ax, values_format='d', cmap='BuPu')\n",
    "    ax.set_title(f'{model_name}: Test')\n",
    "\n",
    "    artifact_path=os.path.join(caminho_pasta,f\"{model_name}_test_conf_matrix.png\")\n",
    "    plt.savefig(artifact_path)\n",
    "    mlflow.log_artifact(artifact_path)\n",
    "    \n",
    "\n",
    "    mlflow.log_metric(f\"Test Precision Score 0\",precision_score(y_test, pred_test, average='binary',pos_label=0))\n",
    "    mlflow.log_metric(f\"Test Precision Score 1\",precision_score(y_test, pred_test, average='binary',pos_label=1))\n",
    "\n",
    "\n",
    "    auc_score_test = roc_auc_score(y_test,pred_test)\n",
    "    mlflow.log_metric(\"Test AUC Score\",auc_score_test)  \n",
    "\n",
    "    \n",
    "    display=RocCurveDisplay.from_predictions(y_test,pred_test)\n",
    "    plt.title(\"Test\")\n",
    "    display.plot()\n",
    "    artifact_path=os.path.join(caminho_pasta,f\"{model_name}_test_roc_curve.png\")\n",
    "    plt.savefig(artifact_path)\n",
    "    mlflow.log_artifact(artifact_path)\n",
    "    mlflow.end_run() "
   ]
  },
  {
   "cell_type": "markdown",
   "id": "53986afa-aa5f-4f90-b770-bc883373af4d",
   "metadata": {},
   "source": [
    "# Data spliting"
   ]
  },
  {
   "cell_type": "code",
   "execution_count": 7,
   "id": "8ec5e7df-b7aa-4fde-a270-af37f6bb91f5",
   "metadata": {},
   "outputs": [],
   "source": [
    "numeric=df.select_dtypes(include=['int64','float64']).columns.to_list()\n",
    "categories=df.select_dtypes(exclude=['int64','float64']).columns.to_list()\n",
    "categories.remove('y')"
   ]
  },
  {
   "cell_type": "code",
   "execution_count": 29,
   "id": "cf49705b-1f3a-4916-ab98-1feae1e0515d",
   "metadata": {},
   "outputs": [],
   "source": [
    "X=df.drop('y',axis=1)\n",
    "y=df['y']"
   ]
  },
  {
   "cell_type": "code",
   "execution_count": 9,
   "id": "c84adc13-7eb4-459b-9f94-ae8391299d0b",
   "metadata": {},
   "outputs": [],
   "source": [
    "X_test,X_train,y_test,y_train=train_test_split(X,y, test_size=0.80,random_state=108)"
   ]
  },
  {
   "cell_type": "code",
   "execution_count": 10,
   "id": "5d159f17-7d7e-4b3d-bab6-2404320f1b27",
   "metadata": {},
   "outputs": [
    {
     "data": {
      "text/plain": [
       "((9042, 16), (36169, 16), (9042,), (36169,))"
      ]
     },
     "execution_count": 10,
     "metadata": {},
     "output_type": "execute_result"
    }
   ],
   "source": [
    "X_test.shape,X_train.shape,y_test.shape,y_train.shape"
   ]
  },
  {
   "cell_type": "markdown",
   "id": "929b1ccc-0d49-473d-aef6-66ab6bee4f56",
   "metadata": {},
   "source": [
    "# Data preprocessing"
   ]
  },
  {
   "cell_type": "code",
   "execution_count": 11,
   "id": "de7fb049-f79b-46f0-8027-b87f3f11d03a",
   "metadata": {},
   "outputs": [],
   "source": [
    "preprocessor=preprocessing_features(categories=categories,numerics=numeric,features=X_train)"
   ]
  },
  {
   "cell_type": "code",
   "execution_count": 12,
   "id": "0c627cf2-f33e-4d60-997a-b26cb3a0c711",
   "metadata": {},
   "outputs": [],
   "source": [
    "X_train_preprocessed=preprocessor.transform(X_train)"
   ]
  },
  {
   "cell_type": "code",
   "execution_count": 13,
   "id": "85e82b3f-7786-4696-aba1-77c321ee4d7b",
   "metadata": {},
   "outputs": [
    {
     "data": {
      "text/plain": [
       "array([[0.19480519, 0.08058364, 0.63333333, ..., 0.        , 0.        ,\n",
       "        1.        ],\n",
       "       [0.4025974 , 0.0778496 , 0.26666667, ..., 0.        , 0.        ,\n",
       "        1.        ],\n",
       "       [0.19480519, 0.07535984, 0.73333333, ..., 0.        , 0.        ,\n",
       "        1.        ],\n",
       "       ...,\n",
       "       [0.20779221, 0.07281371, 0.53333333, ..., 0.        , 0.        ,\n",
       "        1.        ],\n",
       "       [0.32467532, 0.08021722, 0.63333333, ..., 0.        , 0.        ,\n",
       "        1.        ],\n",
       "       [0.27272727, 0.07539742, 0.9       , ..., 0.        , 0.        ,\n",
       "        1.        ]])"
      ]
     },
     "execution_count": 13,
     "metadata": {},
     "output_type": "execute_result"
    }
   ],
   "source": [
    "X_train_preprocessed"
   ]
  },
  {
   "cell_type": "code",
   "execution_count": 14,
   "id": "4746aa07-2f6e-4e48-a823-fe58af27da3b",
   "metadata": {},
   "outputs": [
    {
     "name": "stdout",
     "output_type": "stream",
     "text": [
      "['no' 'yes']\n"
     ]
    }
   ],
   "source": [
    "preprocessor_target=preprocessing_target(y_train)"
   ]
  },
  {
   "cell_type": "code",
   "execution_count": 15,
   "id": "36f58675-c33c-4eed-bb18-47f20f688fc7",
   "metadata": {},
   "outputs": [],
   "source": [
    "y_train_preprocessed=preprocessor_target.transform(y_train)"
   ]
  },
  {
   "cell_type": "code",
   "execution_count": 16,
   "id": "151938dc-4fe5-4043-85a3-49b03d160179",
   "metadata": {},
   "outputs": [],
   "source": [
    "X_train_resampled, y_train_resampled = SMOTE().fit_resample(X_train_preprocessed, y_train_preprocessed)"
   ]
  },
  {
   "cell_type": "markdown",
   "id": "f3a70905-7a3a-4380-878e-d7be4759c063",
   "metadata": {},
   "source": [
    "# Algorithms"
   ]
  },
  {
   "cell_type": "code",
   "execution_count": 17,
   "id": "486656b5-b54e-49e2-9076-17b2db630c3b",
   "metadata": {},
   "outputs": [],
   "source": [
    "models = {\n",
    "                \"Random_Forest\": RandomForestClassifier(random_state=42),\n",
    "                \"Decision_Tree\": DecisionTreeClassifier(random_state=42),\n",
    "                \"Gradient_Boosting\": GradientBoostingClassifier(random_state=42),\n",
    "                \"Logistic_Regression\": LogisticRegression(random_state=42),\n",
    "                \"XGBClassifier\": XGBClassifier(),\n",
    "                \"AdaBoost_Classifier\": AdaBoostClassifier(random_state=42,),\n",
    "            }\n",
    "params={\n",
    "                \"Decision_Tree\": {\n",
    "                    'criterion':['gini', 'log_loss', 'entropy'],\n",
    "                    'max_features':['auto', 'sqrt', 'log2']\n",
    "                },\n",
    "                \"Random_Forest\":{                    \n",
    "                    'n_estimators': [8,16,32,64,128,256],\n",
    "                    'criterion':['gini','entropy','log_loss'],\n",
    "                    'max_features':['sqrt','log2']\n",
    "\n",
    "                },\n",
    "                \"Gradient_Boosting\":{\n",
    "                    'learning_rate':[.1,.01,.05,.001],\n",
    "                    'subsample':[0.6,0.7,0.75,0.8,0.85,0.9],\n",
    "                    'n_estimators': [8,16,32,64,128,256]\n",
    "                },\n",
    "               \"Logistic_Regression\":{},\n",
    "                \"XGBClassifier\":{\n",
    "                    'learning_rate':[.1,.01,.05,.001],\n",
    "                    'n_estimators': [8,16,32,64,128,256]\n",
    "                },\n",
    "                \"AdaBoost_Classifier\":{\n",
    "                    'learning_rate':[.1,.01,0.5,.001],\n",
    "                    'n_estimators': [8,16,32,64,128,256]\n",
    "                }                \n",
    "            }"
   ]
  },
  {
   "cell_type": "markdown",
   "id": "471dff60-0769-47af-ab61-57408d466fc4",
   "metadata": {},
   "source": [
    "# Validation"
   ]
  },
  {
   "cell_type": "code",
   "execution_count": 18,
   "id": "6c363fc4-843f-4d7f-af23-56a60c111ea9",
   "metadata": {},
   "outputs": [
    {
     "name": "stdout",
     "output_type": "stream",
     "text": [
      "bank_test_2024-12-02_21-15-56\n",
      "--------------------Trainning Random_Forest Model-------------------------------\n",
      "{'n_estimators': [8, 16, 32, 64, 128, 256], 'criterion': ['gini', 'entropy', 'log_loss'], 'max_features': ['sqrt', 'log2']}\n",
      "\n",
      " -----------------------------------------------\n",
      "\n",
      " Algorithm: Random_Forest\n",
      "--------------------Trainning Decision_Tree Model-------------------------------\n",
      "{'criterion': ['gini', 'log_loss', 'entropy'], 'max_features': ['auto', 'sqrt', 'log2']}\n",
      "\n",
      " -----------------------------------------------\n",
      "\n",
      " Algorithm: Decision_Tree\n",
      "--------------------Trainning Gradient_Boosting Model-------------------------------\n",
      "{'learning_rate': [0.1, 0.01, 0.05, 0.001], 'subsample': [0.6, 0.7, 0.75, 0.8, 0.85, 0.9], 'n_estimators': [8, 16, 32, 64, 128, 256]}\n",
      "\n",
      " -----------------------------------------------\n",
      "\n",
      " Algorithm: Gradient_Boosting\n",
      "--------------------Trainning Logistic_Regression Model-------------------------------\n",
      "{}\n",
      "\n",
      " -----------------------------------------------\n",
      "\n",
      " Algorithm: Logistic_Regression\n",
      "--------------------Trainning XGBClassifier Model-------------------------------\n",
      "{'learning_rate': [0.1, 0.01, 0.05, 0.001], 'n_estimators': [8, 16, 32, 64, 128, 256]}\n",
      "\n",
      " -----------------------------------------------\n",
      "\n",
      " Algorithm: XGBClassifier\n",
      "--------------------Trainning AdaBoost_Classifier Model-------------------------------\n",
      "{'learning_rate': [0.1, 0.01, 0.5, 0.001], 'n_estimators': [8, 16, 32, 64, 128, 256]}\n",
      "\n",
      " -----------------------------------------------\n",
      "\n",
      " Algorithm: AdaBoost_Classifier\n"
     ]
    }
   ],
   "source": [
    "mlflow_tracking_training(X_train=X_train_resampled,y_train=y_train_resampled,experimental_name='bank_test',models=models,params=params)"
   ]
  },
  {
   "cell_type": "markdown",
   "id": "fbb95099-73b9-4086-b421-1aaa9bccc5b2",
   "metadata": {},
   "source": [
    "# Train"
   ]
  },
  {
   "cell_type": "code",
   "execution_count": 19,
   "id": "8a13e505-aed0-48ba-a46c-3ab2c29a123b",
   "metadata": {},
   "outputs": [],
   "source": [
    "model=XGBClassifier(random_state=42,n_estimators=256, learning_rate= 0.05).fit(X_train_resampled,y_train_resampled)"
   ]
  },
  {
   "cell_type": "markdown",
   "id": "f5f6ecc3-ebae-4570-aa65-763aaf829503",
   "metadata": {},
   "source": [
    "# Test"
   ]
  },
  {
   "cell_type": "code",
   "execution_count": 20,
   "id": "73085a6e-2573-4c68-b089-1c5109504fe5",
   "metadata": {},
   "outputs": [],
   "source": [
    "X_test_preprocessed=preprocessor.transform(X_test)\n",
    "y_test_preprocessed=preprocessor_target.transform(y_test)"
   ]
  },
  {
   "cell_type": "code",
   "execution_count": 21,
   "id": "29601961-1851-40ee-8236-b86b9ad43ef7",
   "metadata": {},
   "outputs": [
    {
     "name": "stdout",
     "output_type": "stream",
     "text": [
      "bank_final_model_2024-12-02_22-00-26\n",
      "Test Dataset Accuracy: 0.90\n"
     ]
    },
    {
     "data": {
      "image/png": "[encoded data removed]",
      "text/plain": [
       "<Figure size 800x600 with 2 Axes>"
      ]
     },
     "metadata": {},
     "output_type": "display_data"
    },
    {
     "data": {
      "image/png": "[encoded data removed]",
      "text/plain": [
       "<Figure size 640x480 with 1 Axes>"
      ]
     },
     "metadata": {},
     "output_type": "display_data"
    },
    {
     "data": {
      "image/png": "[encoded data removed]",
      "text/plain": [
       "<Figure size 640x480 with 1 Axes>"
      ]
     },
     "metadata": {},
     "output_type": "display_data"
    }
   ],
   "source": [
    "mlflow_tracking_test(experimental_name='bank_final_model',model=model,X_test=X_test_preprocessed,y_test=y_test_preprocessed,model_name='XGBoost')"
   ]
  },
  {
   "cell_type": "markdown",
   "id": "150cbcde-0dd4-4a95-bd91-abe8943fd085",
   "metadata": {},
   "source": [
    "# Final Model"
   ]
  },
  {
   "cell_type": "code",
   "execution_count": 35,
   "id": "9e5887db-8a57-4158-aed9-eba60412d847",
   "metadata": {},
   "outputs": [],
   "source": [
    "from joblib import dump"
   ]
  },
  {
   "cell_type": "code",
   "execution_count": 23,
   "id": "7bdf1535-dbfc-435a-951f-9c5fed1a1ff9",
   "metadata": {},
   "outputs": [],
   "source": [
    "final_preprocessor_features=preprocessing_features(categories=categories,features=X,numerics=numeric)"
   ]
  },
  {
   "cell_type": "code",
   "execution_count": 30,
   "id": "5e49cfb3-7d36-439d-9c51-54aaa5bf3107",
   "metadata": {},
   "outputs": [],
   "source": [
    "X=final_preprocessor_features.transform(X)"
   ]
  },
  {
   "cell_type": "code",
   "execution_count": 25,
   "id": "07374885-657e-408c-9bd3-b719fd8f1188",
   "metadata": {},
   "outputs": [
    {
     "name": "stdout",
     "output_type": "stream",
     "text": [
      "['no' 'yes']\n"
     ]
    }
   ],
   "source": [
    "final_preprocessor_target=preprocessing_target(y)"
   ]
  },
  {
   "cell_type": "code",
   "execution_count": 31,
   "id": "315bfd7a-ed40-4354-8a01-5836c7d36e73",
   "metadata": {},
   "outputs": [],
   "source": [
    "y=final_preprocessor_target.transform(y)"
   ]
  },
  {
   "cell_type": "code",
   "execution_count": 33,
   "id": "9e366d10-0825-4cf5-9662-a4b80c44776a",
   "metadata": {},
   "outputs": [],
   "source": [
    "X, y= SMOTE().fit_resample(X, y)"
   ]
  },
  {
   "cell_type": "code",
   "execution_count": 34,
   "id": "562b5bec-84b4-4470-8a1b-e5cf07c87973",
   "metadata": {},
   "outputs": [],
   "source": [
    "final=XGBClassifier(random_state=42,n_estimators=256, learning_rate= 0.05).fit(X,y)"
   ]
  },
  {
   "cell_type": "code",
   "execution_count": 36,
   "id": "cd2d9236-d719-469f-806e-fa51d04f89b4",
   "metadata": {},
   "outputs": [
    {
     "data": {
      "text/plain": [
       "['../artifacts/final_model.joblib']"
      ]
     },
     "execution_count": 36,
     "metadata": {},
     "output_type": "execute_result"
    }
   ],
   "source": [
    "dump(final,'../artifacts/final_model.joblib')"
   ]
  },
  {
   "cell_type": "code",
   "execution_count": 37,
   "id": "a263bb96-295f-49ad-8cf0-56fd3df3f344",
   "metadata": {},
   "outputs": [
    {
     "data": {
      "text/plain": [
       "['../artifacts/final_preprocessor_features.joblib']"
      ]
     },
     "execution_count": 37,
     "metadata": {},
     "output_type": "execute_result"
    }
   ],
   "source": [
    "dump(final_preprocessor_features,'../artifacts/final_preprocessor_features.joblib')"
   ]
  },
  {
   "cell_type": "code",
   "execution_count": null,
   "id": "ad085d2a-e02b-43e9-9c92-be95cccba4f6",
   "metadata": {},
   "outputs": [],
   "source": []
  }
 ],
 "metadata": {
  "kernelspec": {
   "display_name": "bank_venv",
   "language": "python",
   "name": "bank_venv"
  },
  "language_info": {
   "codemirror_mode": {
    "name": "ipython",
    "version": 3
   },
   "file_extension": ".py",
   "mimetype": "text/x-python",
   "name": "python",
   "nbconvert_exporter": "python",
   "pygments_lexer": "ipython3",
   "version": "3.13.0"
  }
 },
 "nbformat": 4,
 "nbformat_minor": 5
}
